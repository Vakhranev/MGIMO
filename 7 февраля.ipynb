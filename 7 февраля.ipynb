{
  "nbformat": 4,
  "nbformat_minor": 0,
  "metadata": {
    "colab": {
      "provenance": [],
      "authorship_tag": "ABX9TyN+ap6DUXxyO8v+NYPrvFLn",
      "include_colab_link": true
    },
    "kernelspec": {
      "name": "python3",
      "display_name": "Python 3"
    },
    "language_info": {
      "name": "python"
    }
  },
  "cells": [
    {
      "cell_type": "markdown",
      "metadata": {
        "id": "view-in-github",
        "colab_type": "text"
      },
      "source": [
        "<a href=\"https://colab.research.google.com/github/Vakhranev/MGIMO/blob/main/7%20%D1%84%D0%B5%D0%B2%D1%80%D0%B0%D0%BB%D1%8F.ipynb\" target=\"_parent\"><img src=\"https://colab.research.google.com/assets/colab-badge.svg\" alt=\"Open In Colab\"/></a>"
      ]
    },
    {
      "cell_type": "markdown",
      "source": [
        "# Введение в анализ данных\n",
        "**Анализ данных с использованием Python**\n",
        "\n",
        "Язык программирования **Python** в последнее время все чаще используется для анализа данных, как в науке, так и коммерческой сфере.\n",
        "В этой статье разберем простой пример исследования и классификации данных с использованием некоторых библиотек на **Python**. Для исследования, нам понадобится выбрать интересующий нас набор данных (**DataSet**). Разнообразные наборы Dataset'ы можно [скачать с сайта](https://www.kaggle.com/).\n",
        "\n",
        "Для демонстрации возможностей исследуем простой набор данных с [информацией о наблюдениях НЛО](https://www.kaggle.com/NUFORC/ufo-sightings).\n",
        "\n",
        "Итак, таблица с наблюдениями имеет следующие столбцы:\n",
        "\n",
        "\n",
        "*   datetime — дата появления объекта\n",
        "*   city — город в котором появился объект\n",
        "*   state — штат\n",
        "*   country — страна\n",
        "*   duration (seconds) — время на которое появился объект в секундах\n",
        "*   duration (hours/min) — время на которое появился объект в часах/минутах\n",
        "*   shape — форма объекта\n",
        "*   comments — коментарий\n",
        "*   date posted — дата публикации\n",
        "*   latitude — широта\n",
        "*   longitude — долгота\n",
        "\n",
        "Для начала нужно установить сам интерпретатор **Python3** с библиотеками. В Ubuntu-подобном дистрибутиве это будет:"
      ],
      "metadata": {
        "id": "NhBtyUq7YaJU"
      }
    },
    {
      "cell_type": "code",
      "execution_count": null,
      "metadata": {
        "id": "G1UbQ9uGXY31"
      },
      "outputs": [],
      "source": [
        " sudo apt-get install python3\n",
        " sudo apt-get install python3-pip"
      ]
    },
    {
      "cell_type": "markdown",
      "source": [
        "**pip** — это система управления пакетами, которая используется для установки и управления программными пакетами, написанными на Python.  С её помощью устанавливаем библиотеки, которые будем использовать:\n",
        "\n",
        "\n",
        "*   **sklearn** — библиотека, алгоритмов машинного обучения, она понадобится нам в дальнейшем для классификации исследуемых данных,\n",
        "\n",
        "*   **matplotlib** — библиотека для построения графиков,\n",
        "\n",
        "*   **pandas** — библиотека для обработки и анализа данных. Будем использовать для первичной обработки данных,\n",
        "\n",
        "*   **numpy** — математическая библиотека с поддержкой многомерных массивов,\n",
        "\n",
        "*   **yandex-translate** — библиотека для перевода текста, через yandex API (для использования нужно получить API ключ в яндексе),\n",
        "\n",
        "*   **pycountry** — библиотека, которую будем использовать для преобразования кода страны в полное название страны,\n",
        "\n",
        "\n",
        "Используя **pip** пакеты ставятся просто:"
      ],
      "metadata": {
        "id": "D4UVIYZrdiZN"
      }
    },
    {
      "cell_type": "code",
      "source": [
        "!pip install yandex-translate\n",
        "!pip install pycountry"
      ],
      "metadata": {
        "colab": {
          "base_uri": "https://localhost:8080/"
        },
        "id": "Fd0T3mmEgWRh",
        "outputId": "38c23ad7-c851-45d4-eb86-490895d8dbb5"
      },
      "execution_count": 1,
      "outputs": [
        {
          "output_type": "stream",
          "name": "stdout",
          "text": [
            "Requirement already satisfied: yandex-translate in /usr/local/lib/python3.11/dist-packages (0.3.5)\n",
            "Requirement already satisfied: requests>=1.2.3 in /usr/local/lib/python3.11/dist-packages (from yandex-translate) (2.32.3)\n",
            "Requirement already satisfied: charset-normalizer<4,>=2 in /usr/local/lib/python3.11/dist-packages (from requests>=1.2.3->yandex-translate) (3.4.1)\n",
            "Requirement already satisfied: idna<4,>=2.5 in /usr/local/lib/python3.11/dist-packages (from requests>=1.2.3->yandex-translate) (3.10)\n",
            "Requirement already satisfied: urllib3<3,>=1.21.1 in /usr/local/lib/python3.11/dist-packages (from requests>=1.2.3->yandex-translate) (2.3.0)\n",
            "Requirement already satisfied: certifi>=2017.4.17 in /usr/local/lib/python3.11/dist-packages (from requests>=1.2.3->yandex-translate) (2024.12.14)\n",
            "Requirement already satisfied: pycountry in /usr/local/lib/python3.11/dist-packages (24.6.1)\n"
          ]
        }
      ]
    },
    {
      "cell_type": "markdown",
      "source": [
        "Файл DataSet — **scrubbed.csv** должен лежать в рабочей директории, где создается файл программы.\n",
        "\n",
        "Модуль подключается с помощью инструкции:"
      ],
      "metadata": {
        "id": "nLrucJzxqfTc"
      }
    },
    {
      "cell_type": "code",
      "source": [
        " import <название модуля>"
      ],
      "metadata": {
        "id": "hgu9d51krPn8"
      },
      "execution_count": null,
      "outputs": []
    },
    {
      "cell_type": "markdown",
      "source": [
        "Если название модуля слишком длинное, и/или не нравится по соображениям удобства или политическим убеждениямм, то с помощью ключевого слова **as** для него можно создать псевдоним:"
      ],
      "metadata": {
        "id": "9cDowl3MrNUO"
      }
    },
    {
      "cell_type": "code",
      "source": [
        " import <название модуля> as <псевдоним>"
      ],
      "metadata": {
        "id": "5HrkLOgNrkWC"
      },
      "execution_count": null,
      "outputs": []
    },
    {
      "cell_type": "markdown",
      "source": [
        "Тогда, чтобы обратиться к определенному атрибуту, который определен в модуле:"
      ],
      "metadata": {
        "id": "0yxOkLDyrvDT"
      }
    },
    {
      "cell_type": "code",
      "source": [
        "<название модуля>.<Атрибут>"
      ],
      "metadata": {
        "id": "sfjayEafr8Dh"
      },
      "execution_count": null,
      "outputs": []
    },
    {
      "cell_type": "markdown",
      "source": [
        "или:"
      ],
      "metadata": {
        "id": "bCkB-eRrr-tc"
      }
    },
    {
      "cell_type": "code",
      "source": [
        "<псевдоним>.<Атрибут>"
      ],
      "metadata": {
        "id": "UoOGXiFXsEVE"
      },
      "execution_count": null,
      "outputs": []
    },
    {
      "cell_type": "markdown",
      "source": [
        "Для подключения определенных атрибутов модуля используется инструкция **from**. Для удобства, чтобы не писать названия модуля, при обращении к атрибуту, можно подключить нужный атрибут отдельно."
      ],
      "metadata": {
        "id": "_0oWaARWsXAN"
      }
    },
    {
      "cell_type": "code",
      "source": [
        " from <Название модуля> import <Атрибут>"
      ],
      "metadata": {
        "id": "K2MmyQ4_saOO"
      },
      "execution_count": null,
      "outputs": []
    },
    {
      "cell_type": "markdown",
      "source": [
        "Подключение нужных нам модулей:"
      ],
      "metadata": {
        "id": "OfJG1twqsZtt"
      }
    },
    {
      "cell_type": "code",
      "source": [
        "import pandas as pd\n",
        "import numpy as np\n",
        "import pycountry\n",
        "import matplotlib.pyplot as plt\n",
        "from matplotlib import cm\n",
        "from mpl_toolkits.mplot3d import Axes3D\n",
        "from yandex_translate import YandexTranslate # Используем класс YandexTranslate из модуля yandex_translate\n",
        "from yandex_translate import YandexTranslateException # Используем класс YandexTranslateException из модуля yandex_translate"
      ],
      "metadata": {
        "id": "pEvT10CQsiPV"
      },
      "execution_count": 2,
      "outputs": []
    },
    {
      "cell_type": "markdown",
      "source": [
        "Функция возвращает связный список с цветами."
      ],
      "metadata": {
        "id": "cCdQBM0rssBh"
      }
    },
    {
      "cell_type": "code",
      "source": [
        "# Размер надписей на графиках\n",
        "PLOT_LABEL_FONT_SIZE = 14\n",
        "# Генерация цветовой схемы\n",
        "# Возвращает список цветов\n",
        "def getColors(n):\n",
        "    COLORS = []\n",
        "    cm = plt.cm.get_cmap('hsv', n)\n",
        "    for i in np.arange(n):\n",
        "        COLORS.append(cm(i))\n",
        "    return COLORS"
      ],
      "metadata": {
        "id": "f7-Yq9rhs2ss"
      },
      "execution_count": 3,
      "outputs": []
    },
    {
      "cell_type": "markdown",
      "source": [
        "Для перевода некоторых названий с англиского на русский язык создадим функцию **translate**. И да, нам понадобится интернет, чтобы воспользоваться API переводчика от [Яндекс](https://yandex.cloud/ru/services/translate).\n",
        "\n",
        "Функция принимает на вход аргументы:\n",
        "\n",
        "\n",
        "*   **string** — строка, которую нужно перевести,\n",
        "*   **translator_obj** — объект в котором реализован переводчик, если равен None, то строка не переводится.\n",
        "\n",
        "и возвращает переведенную на русский язык строку."
      ],
      "metadata": {
        "id": "cSIs7_c9tTpf"
      }
    }
  ]
}