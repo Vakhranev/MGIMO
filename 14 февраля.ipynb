{
  "nbformat": 4,
  "nbformat_minor": 0,
  "metadata": {
    "colab": {
      "provenance": [],
      "authorship_tag": "ABX9TyOGKDeFYN6qOK/VPjgCXV7+",
      "include_colab_link": true
    },
    "kernelspec": {
      "name": "python3",
      "display_name": "Python 3"
    },
    "language_info": {
      "name": "python"
    }
  },
  "cells": [
    {
      "cell_type": "markdown",
      "metadata": {
        "id": "view-in-github",
        "colab_type": "text"
      },
      "source": [
        "<a href=\"https://colab.research.google.com/github/Vakhranev/MGIMO/blob/main/14%20%D1%84%D0%B5%D0%B2%D1%80%D0%B0%D0%BB%D1%8F.ipynb\" target=\"_parent\"><img src=\"https://colab.research.google.com/assets/colab-badge.svg\" alt=\"Open In Colab\"/></a>"
      ]
    },
    {
      "cell_type": "markdown",
      "source": [
        "# Описательный анализ данных\n",
        "\n",
        "**Группирование данных и нормальное распределение**\n",
        "\n",
        "Это занятие **для начинающих** посвящено описательным статистикам, группированию данных и нормальному распределению. Ряд постов по теме на Хабре см. [здесь](https://habr.com/ru/articles/556000/).\n",
        "\n",
        "Столбец с данными об электорате Electorate показывает суммарное число зарегистрированных избирателей в каждом избирательном округе:"
      ],
      "metadata": {
        "id": "Zm0wUuMU7IoK"
      }
    },
    {
      "cell_type": "code",
      "execution_count": 23,
      "metadata": {
        "id": "f1oS7WM_7GfO"
      },
      "outputs": [],
      "source": [
        "import scipy as sp\n",
        "from scipy import stats  # модуль статистических функций\n",
        "import pandas as pd\n",
        "import matplotlib.pyplot as plt\n",
        "import numpy as np"
      ]
    },
    {
      "cell_type": "code",
      "source": [
        "pd.read_excel('UK2010.xls')"
      ],
      "metadata": {
        "colab": {
          "base_uri": "https://localhost:8080/",
          "height": 635
        },
        "id": "E3ZGaLxw9brw",
        "outputId": "9e03d125-6eeb-4185-ff31-a51900646cfc"
      },
      "execution_count": 2,
      "outputs": [
        {
          "output_type": "execute_result",
          "data": {
            "text/plain": [
              "     Press Association Reference                Constituency Name  \\\n",
              "0                            1.0                         Aberavon   \n",
              "1                            2.0                        Aberconwy   \n",
              "2                            3.0                   Aberdeen North   \n",
              "3                            4.0                   Aberdeen South   \n",
              "4                            5.0  Aberdeenshire West & Kincardine   \n",
              "..                           ...                              ...   \n",
              "646                        647.0                         Ynys Mon   \n",
              "647                        648.0                     York Central   \n",
              "648                        649.0                       York Outer   \n",
              "649                        650.0                   Yorkshire East   \n",
              "650                          NaN                              NaN   \n",
              "\n",
              "                       Region  Election Year  Electorate     Votes  AC  AD  \\\n",
              "0                       Wales         2010.0     50838.0     30958 NaN NaN   \n",
              "1                       Wales         2010.0     44593.0     29966 NaN NaN   \n",
              "2                    Scotland         2010.0     64808.0     37701 NaN NaN   \n",
              "3                    Scotland         2010.0     64031.0     43034 NaN NaN   \n",
              "4                    Scotland         2010.0     66110.0     45195 NaN NaN   \n",
              "..                        ...            ...         ...       ...  ..  ..   \n",
              "646                     Wales         2010.0     50075.0     34444 NaN NaN   \n",
              "647  Yorkshire and the Humber         2010.0     76439.0     46483 NaN NaN   \n",
              "648  Yorkshire and the Humber         2010.0     75939.0     53300 NaN NaN   \n",
              "649  Yorkshire and the Humber         2010.0     80105.0     51254 NaN NaN   \n",
              "650                       NaN            NaN         NaN  29687604 NaN NaN   \n",
              "\n",
              "     AGS  APNI  ...    UKIP  UPS  UV  VCCA  Vote  Wessex Reg  WRP  You  Youth  \\\n",
              "0    NaN   NaN  ...   489.0  NaN NaN   NaN   NaN         NaN  NaN  NaN    NaN   \n",
              "1    NaN   NaN  ...   632.0  NaN NaN   NaN   NaN         NaN  NaN  NaN    NaN   \n",
              "2    NaN   NaN  ...     NaN  NaN NaN   NaN   NaN         NaN  NaN  NaN    NaN   \n",
              "3    NaN   NaN  ...     NaN  NaN NaN   NaN   NaN         NaN  NaN  NaN    NaN   \n",
              "4    NaN   NaN  ...   397.0  NaN NaN   NaN   NaN         NaN  NaN  NaN    NaN   \n",
              "..   ...   ...  ...     ...  ...  ..   ...   ...         ...  ...  ...    ...   \n",
              "646  NaN   NaN  ...  1201.0  NaN NaN   NaN   NaN         NaN  NaN  NaN    NaN   \n",
              "647  NaN   NaN  ...  1100.0  NaN NaN   NaN   NaN         NaN  NaN  NaN    NaN   \n",
              "648  NaN   NaN  ...  1100.0  NaN NaN   NaN   NaN         NaN  NaN  NaN    NaN   \n",
              "649  NaN   NaN  ...  2142.0  NaN NaN   NaN   NaN         NaN  NaN  NaN    NaN   \n",
              "650  NaN   NaN  ...     NaN  NaN NaN   NaN   NaN         NaN  NaN  NaN    NaN   \n",
              "\n",
              "     YRDPL  \n",
              "0      NaN  \n",
              "1      NaN  \n",
              "2      NaN  \n",
              "3      NaN  \n",
              "4      NaN  \n",
              "..     ...  \n",
              "646    NaN  \n",
              "647    NaN  \n",
              "648    NaN  \n",
              "649    NaN  \n",
              "650    NaN  \n",
              "\n",
              "[651 rows x 144 columns]"
            ],
            "text/html": [
              "\n",
              "  <div id=\"df-96468445-0121-4d08-91f6-e7d52e9158d5\" class=\"colab-df-container\">\n",
              "    <div>\n",
              "<style scoped>\n",
              "    .dataframe tbody tr th:only-of-type {\n",
              "        vertical-align: middle;\n",
              "    }\n",
              "\n",
              "    .dataframe tbody tr th {\n",
              "        vertical-align: top;\n",
              "    }\n",
              "\n",
              "    .dataframe thead th {\n",
              "        text-align: right;\n",
              "    }\n",
              "</style>\n",
              "<table border=\"1\" class=\"dataframe\">\n",
              "  <thead>\n",
              "    <tr style=\"text-align: right;\">\n",
              "      <th></th>\n",
              "      <th>Press Association Reference</th>\n",
              "      <th>Constituency Name</th>\n",
              "      <th>Region</th>\n",
              "      <th>Election Year</th>\n",
              "      <th>Electorate</th>\n",
              "      <th>Votes</th>\n",
              "      <th>AC</th>\n",
              "      <th>AD</th>\n",
              "      <th>AGS</th>\n",
              "      <th>APNI</th>\n",
              "      <th>...</th>\n",
              "      <th>UKIP</th>\n",
              "      <th>UPS</th>\n",
              "      <th>UV</th>\n",
              "      <th>VCCA</th>\n",
              "      <th>Vote</th>\n",
              "      <th>Wessex Reg</th>\n",
              "      <th>WRP</th>\n",
              "      <th>You</th>\n",
              "      <th>Youth</th>\n",
              "      <th>YRDPL</th>\n",
              "    </tr>\n",
              "  </thead>\n",
              "  <tbody>\n",
              "    <tr>\n",
              "      <th>0</th>\n",
              "      <td>1.0</td>\n",
              "      <td>Aberavon</td>\n",
              "      <td>Wales</td>\n",
              "      <td>2010.0</td>\n",
              "      <td>50838.0</td>\n",
              "      <td>30958</td>\n",
              "      <td>NaN</td>\n",
              "      <td>NaN</td>\n",
              "      <td>NaN</td>\n",
              "      <td>NaN</td>\n",
              "      <td>...</td>\n",
              "      <td>489.0</td>\n",
              "      <td>NaN</td>\n",
              "      <td>NaN</td>\n",
              "      <td>NaN</td>\n",
              "      <td>NaN</td>\n",
              "      <td>NaN</td>\n",
              "      <td>NaN</td>\n",
              "      <td>NaN</td>\n",
              "      <td>NaN</td>\n",
              "      <td>NaN</td>\n",
              "    </tr>\n",
              "    <tr>\n",
              "      <th>1</th>\n",
              "      <td>2.0</td>\n",
              "      <td>Aberconwy</td>\n",
              "      <td>Wales</td>\n",
              "      <td>2010.0</td>\n",
              "      <td>44593.0</td>\n",
              "      <td>29966</td>\n",
              "      <td>NaN</td>\n",
              "      <td>NaN</td>\n",
              "      <td>NaN</td>\n",
              "      <td>NaN</td>\n",
              "      <td>...</td>\n",
              "      <td>632.0</td>\n",
              "      <td>NaN</td>\n",
              "      <td>NaN</td>\n",
              "      <td>NaN</td>\n",
              "      <td>NaN</td>\n",
              "      <td>NaN</td>\n",
              "      <td>NaN</td>\n",
              "      <td>NaN</td>\n",
              "      <td>NaN</td>\n",
              "      <td>NaN</td>\n",
              "    </tr>\n",
              "    <tr>\n",
              "      <th>2</th>\n",
              "      <td>3.0</td>\n",
              "      <td>Aberdeen North</td>\n",
              "      <td>Scotland</td>\n",
              "      <td>2010.0</td>\n",
              "      <td>64808.0</td>\n",
              "      <td>37701</td>\n",
              "      <td>NaN</td>\n",
              "      <td>NaN</td>\n",
              "      <td>NaN</td>\n",
              "      <td>NaN</td>\n",
              "      <td>...</td>\n",
              "      <td>NaN</td>\n",
              "      <td>NaN</td>\n",
              "      <td>NaN</td>\n",
              "      <td>NaN</td>\n",
              "      <td>NaN</td>\n",
              "      <td>NaN</td>\n",
              "      <td>NaN</td>\n",
              "      <td>NaN</td>\n",
              "      <td>NaN</td>\n",
              "      <td>NaN</td>\n",
              "    </tr>\n",
              "    <tr>\n",
              "      <th>3</th>\n",
              "      <td>4.0</td>\n",
              "      <td>Aberdeen South</td>\n",
              "      <td>Scotland</td>\n",
              "      <td>2010.0</td>\n",
              "      <td>64031.0</td>\n",
              "      <td>43034</td>\n",
              "      <td>NaN</td>\n",
              "      <td>NaN</td>\n",
              "      <td>NaN</td>\n",
              "      <td>NaN</td>\n",
              "      <td>...</td>\n",
              "      <td>NaN</td>\n",
              "      <td>NaN</td>\n",
              "      <td>NaN</td>\n",
              "      <td>NaN</td>\n",
              "      <td>NaN</td>\n",
              "      <td>NaN</td>\n",
              "      <td>NaN</td>\n",
              "      <td>NaN</td>\n",
              "      <td>NaN</td>\n",
              "      <td>NaN</td>\n",
              "    </tr>\n",
              "    <tr>\n",
              "      <th>4</th>\n",
              "      <td>5.0</td>\n",
              "      <td>Aberdeenshire West &amp; Kincardine</td>\n",
              "      <td>Scotland</td>\n",
              "      <td>2010.0</td>\n",
              "      <td>66110.0</td>\n",
              "      <td>45195</td>\n",
              "      <td>NaN</td>\n",
              "      <td>NaN</td>\n",
              "      <td>NaN</td>\n",
              "      <td>NaN</td>\n",
              "      <td>...</td>\n",
              "      <td>397.0</td>\n",
              "      <td>NaN</td>\n",
              "      <td>NaN</td>\n",
              "      <td>NaN</td>\n",
              "      <td>NaN</td>\n",
              "      <td>NaN</td>\n",
              "      <td>NaN</td>\n",
              "      <td>NaN</td>\n",
              "      <td>NaN</td>\n",
              "      <td>NaN</td>\n",
              "    </tr>\n",
              "    <tr>\n",
              "      <th>...</th>\n",
              "      <td>...</td>\n",
              "      <td>...</td>\n",
              "      <td>...</td>\n",
              "      <td>...</td>\n",
              "      <td>...</td>\n",
              "      <td>...</td>\n",
              "      <td>...</td>\n",
              "      <td>...</td>\n",
              "      <td>...</td>\n",
              "      <td>...</td>\n",
              "      <td>...</td>\n",
              "      <td>...</td>\n",
              "      <td>...</td>\n",
              "      <td>...</td>\n",
              "      <td>...</td>\n",
              "      <td>...</td>\n",
              "      <td>...</td>\n",
              "      <td>...</td>\n",
              "      <td>...</td>\n",
              "      <td>...</td>\n",
              "      <td>...</td>\n",
              "    </tr>\n",
              "    <tr>\n",
              "      <th>646</th>\n",
              "      <td>647.0</td>\n",
              "      <td>Ynys Mon</td>\n",
              "      <td>Wales</td>\n",
              "      <td>2010.0</td>\n",
              "      <td>50075.0</td>\n",
              "      <td>34444</td>\n",
              "      <td>NaN</td>\n",
              "      <td>NaN</td>\n",
              "      <td>NaN</td>\n",
              "      <td>NaN</td>\n",
              "      <td>...</td>\n",
              "      <td>1201.0</td>\n",
              "      <td>NaN</td>\n",
              "      <td>NaN</td>\n",
              "      <td>NaN</td>\n",
              "      <td>NaN</td>\n",
              "      <td>NaN</td>\n",
              "      <td>NaN</td>\n",
              "      <td>NaN</td>\n",
              "      <td>NaN</td>\n",
              "      <td>NaN</td>\n",
              "    </tr>\n",
              "    <tr>\n",
              "      <th>647</th>\n",
              "      <td>648.0</td>\n",
              "      <td>York Central</td>\n",
              "      <td>Yorkshire and the Humber</td>\n",
              "      <td>2010.0</td>\n",
              "      <td>76439.0</td>\n",
              "      <td>46483</td>\n",
              "      <td>NaN</td>\n",
              "      <td>NaN</td>\n",
              "      <td>NaN</td>\n",
              "      <td>NaN</td>\n",
              "      <td>...</td>\n",
              "      <td>1100.0</td>\n",
              "      <td>NaN</td>\n",
              "      <td>NaN</td>\n",
              "      <td>NaN</td>\n",
              "      <td>NaN</td>\n",
              "      <td>NaN</td>\n",
              "      <td>NaN</td>\n",
              "      <td>NaN</td>\n",
              "      <td>NaN</td>\n",
              "      <td>NaN</td>\n",
              "    </tr>\n",
              "    <tr>\n",
              "      <th>648</th>\n",
              "      <td>649.0</td>\n",
              "      <td>York Outer</td>\n",
              "      <td>Yorkshire and the Humber</td>\n",
              "      <td>2010.0</td>\n",
              "      <td>75939.0</td>\n",
              "      <td>53300</td>\n",
              "      <td>NaN</td>\n",
              "      <td>NaN</td>\n",
              "      <td>NaN</td>\n",
              "      <td>NaN</td>\n",
              "      <td>...</td>\n",
              "      <td>1100.0</td>\n",
              "      <td>NaN</td>\n",
              "      <td>NaN</td>\n",
              "      <td>NaN</td>\n",
              "      <td>NaN</td>\n",
              "      <td>NaN</td>\n",
              "      <td>NaN</td>\n",
              "      <td>NaN</td>\n",
              "      <td>NaN</td>\n",
              "      <td>NaN</td>\n",
              "    </tr>\n",
              "    <tr>\n",
              "      <th>649</th>\n",
              "      <td>650.0</td>\n",
              "      <td>Yorkshire East</td>\n",
              "      <td>Yorkshire and the Humber</td>\n",
              "      <td>2010.0</td>\n",
              "      <td>80105.0</td>\n",
              "      <td>51254</td>\n",
              "      <td>NaN</td>\n",
              "      <td>NaN</td>\n",
              "      <td>NaN</td>\n",
              "      <td>NaN</td>\n",
              "      <td>...</td>\n",
              "      <td>2142.0</td>\n",
              "      <td>NaN</td>\n",
              "      <td>NaN</td>\n",
              "      <td>NaN</td>\n",
              "      <td>NaN</td>\n",
              "      <td>NaN</td>\n",
              "      <td>NaN</td>\n",
              "      <td>NaN</td>\n",
              "      <td>NaN</td>\n",
              "      <td>NaN</td>\n",
              "    </tr>\n",
              "    <tr>\n",
              "      <th>650</th>\n",
              "      <td>NaN</td>\n",
              "      <td>NaN</td>\n",
              "      <td>NaN</td>\n",
              "      <td>NaN</td>\n",
              "      <td>NaN</td>\n",
              "      <td>29687604</td>\n",
              "      <td>NaN</td>\n",
              "      <td>NaN</td>\n",
              "      <td>NaN</td>\n",
              "      <td>NaN</td>\n",
              "      <td>...</td>\n",
              "      <td>NaN</td>\n",
              "      <td>NaN</td>\n",
              "      <td>NaN</td>\n",
              "      <td>NaN</td>\n",
              "      <td>NaN</td>\n",
              "      <td>NaN</td>\n",
              "      <td>NaN</td>\n",
              "      <td>NaN</td>\n",
              "      <td>NaN</td>\n",
              "      <td>NaN</td>\n",
              "    </tr>\n",
              "  </tbody>\n",
              "</table>\n",
              "<p>651 rows × 144 columns</p>\n",
              "</div>\n",
              "    <div class=\"colab-df-buttons\">\n",
              "\n",
              "  <div class=\"colab-df-container\">\n",
              "    <button class=\"colab-df-convert\" onclick=\"convertToInteractive('df-96468445-0121-4d08-91f6-e7d52e9158d5')\"\n",
              "            title=\"Convert this dataframe to an interactive table.\"\n",
              "            style=\"display:none;\">\n",
              "\n",
              "  <svg xmlns=\"http://www.w3.org/2000/svg\" height=\"24px\" viewBox=\"0 -960 960 960\">\n",
              "    <path d=\"M120-120v-720h720v720H120Zm60-500h600v-160H180v160Zm220 220h160v-160H400v160Zm0 220h160v-160H400v160ZM180-400h160v-160H180v160Zm440 0h160v-160H620v160ZM180-180h160v-160H180v160Zm440 0h160v-160H620v160Z\"/>\n",
              "  </svg>\n",
              "    </button>\n",
              "\n",
              "  <style>\n",
              "    .colab-df-container {\n",
              "      display:flex;\n",
              "      gap: 12px;\n",
              "    }\n",
              "\n",
              "    .colab-df-convert {\n",
              "      background-color: #E8F0FE;\n",
              "      border: none;\n",
              "      border-radius: 50%;\n",
              "      cursor: pointer;\n",
              "      display: none;\n",
              "      fill: #1967D2;\n",
              "      height: 32px;\n",
              "      padding: 0 0 0 0;\n",
              "      width: 32px;\n",
              "    }\n",
              "\n",
              "    .colab-df-convert:hover {\n",
              "      background-color: #E2EBFA;\n",
              "      box-shadow: 0px 1px 2px rgba(60, 64, 67, 0.3), 0px 1px 3px 1px rgba(60, 64, 67, 0.15);\n",
              "      fill: #174EA6;\n",
              "    }\n",
              "\n",
              "    .colab-df-buttons div {\n",
              "      margin-bottom: 4px;\n",
              "    }\n",
              "\n",
              "    [theme=dark] .colab-df-convert {\n",
              "      background-color: #3B4455;\n",
              "      fill: #D2E3FC;\n",
              "    }\n",
              "\n",
              "    [theme=dark] .colab-df-convert:hover {\n",
              "      background-color: #434B5C;\n",
              "      box-shadow: 0px 1px 3px 1px rgba(0, 0, 0, 0.15);\n",
              "      filter: drop-shadow(0px 1px 2px rgba(0, 0, 0, 0.3));\n",
              "      fill: #FFFFFF;\n",
              "    }\n",
              "  </style>\n",
              "\n",
              "    <script>\n",
              "      const buttonEl =\n",
              "        document.querySelector('#df-96468445-0121-4d08-91f6-e7d52e9158d5 button.colab-df-convert');\n",
              "      buttonEl.style.display =\n",
              "        google.colab.kernel.accessAllowed ? 'block' : 'none';\n",
              "\n",
              "      async function convertToInteractive(key) {\n",
              "        const element = document.querySelector('#df-96468445-0121-4d08-91f6-e7d52e9158d5');\n",
              "        const dataTable =\n",
              "          await google.colab.kernel.invokeFunction('convertToInteractive',\n",
              "                                                    [key], {});\n",
              "        if (!dataTable) return;\n",
              "\n",
              "        const docLinkHtml = 'Like what you see? Visit the ' +\n",
              "          '<a target=\"_blank\" href=https://colab.research.google.com/notebooks/data_table.ipynb>data table notebook</a>'\n",
              "          + ' to learn more about interactive tables.';\n",
              "        element.innerHTML = '';\n",
              "        dataTable['output_type'] = 'display_data';\n",
              "        await google.colab.output.renderOutput(dataTable, element);\n",
              "        const docLink = document.createElement('div');\n",
              "        docLink.innerHTML = docLinkHtml;\n",
              "        element.appendChild(docLink);\n",
              "      }\n",
              "    </script>\n",
              "  </div>\n",
              "\n",
              "\n",
              "<div id=\"df-e2d6e036-92b9-467b-abce-680aae74a899\">\n",
              "  <button class=\"colab-df-quickchart\" onclick=\"quickchart('df-e2d6e036-92b9-467b-abce-680aae74a899')\"\n",
              "            title=\"Suggest charts\"\n",
              "            style=\"display:none;\">\n",
              "\n",
              "<svg xmlns=\"http://www.w3.org/2000/svg\" height=\"24px\"viewBox=\"0 0 24 24\"\n",
              "     width=\"24px\">\n",
              "    <g>\n",
              "        <path d=\"M19 3H5c-1.1 0-2 .9-2 2v14c0 1.1.9 2 2 2h14c1.1 0 2-.9 2-2V5c0-1.1-.9-2-2-2zM9 17H7v-7h2v7zm4 0h-2V7h2v10zm4 0h-2v-4h2v4z\"/>\n",
              "    </g>\n",
              "</svg>\n",
              "  </button>\n",
              "\n",
              "<style>\n",
              "  .colab-df-quickchart {\n",
              "      --bg-color: #E8F0FE;\n",
              "      --fill-color: #1967D2;\n",
              "      --hover-bg-color: #E2EBFA;\n",
              "      --hover-fill-color: #174EA6;\n",
              "      --disabled-fill-color: #AAA;\n",
              "      --disabled-bg-color: #DDD;\n",
              "  }\n",
              "\n",
              "  [theme=dark] .colab-df-quickchart {\n",
              "      --bg-color: #3B4455;\n",
              "      --fill-color: #D2E3FC;\n",
              "      --hover-bg-color: #434B5C;\n",
              "      --hover-fill-color: #FFFFFF;\n",
              "      --disabled-bg-color: #3B4455;\n",
              "      --disabled-fill-color: #666;\n",
              "  }\n",
              "\n",
              "  .colab-df-quickchart {\n",
              "    background-color: var(--bg-color);\n",
              "    border: none;\n",
              "    border-radius: 50%;\n",
              "    cursor: pointer;\n",
              "    display: none;\n",
              "    fill: var(--fill-color);\n",
              "    height: 32px;\n",
              "    padding: 0;\n",
              "    width: 32px;\n",
              "  }\n",
              "\n",
              "  .colab-df-quickchart:hover {\n",
              "    background-color: var(--hover-bg-color);\n",
              "    box-shadow: 0 1px 2px rgba(60, 64, 67, 0.3), 0 1px 3px 1px rgba(60, 64, 67, 0.15);\n",
              "    fill: var(--button-hover-fill-color);\n",
              "  }\n",
              "\n",
              "  .colab-df-quickchart-complete:disabled,\n",
              "  .colab-df-quickchart-complete:disabled:hover {\n",
              "    background-color: var(--disabled-bg-color);\n",
              "    fill: var(--disabled-fill-color);\n",
              "    box-shadow: none;\n",
              "  }\n",
              "\n",
              "  .colab-df-spinner {\n",
              "    border: 2px solid var(--fill-color);\n",
              "    border-color: transparent;\n",
              "    border-bottom-color: var(--fill-color);\n",
              "    animation:\n",
              "      spin 1s steps(1) infinite;\n",
              "  }\n",
              "\n",
              "  @keyframes spin {\n",
              "    0% {\n",
              "      border-color: transparent;\n",
              "      border-bottom-color: var(--fill-color);\n",
              "      border-left-color: var(--fill-color);\n",
              "    }\n",
              "    20% {\n",
              "      border-color: transparent;\n",
              "      border-left-color: var(--fill-color);\n",
              "      border-top-color: var(--fill-color);\n",
              "    }\n",
              "    30% {\n",
              "      border-color: transparent;\n",
              "      border-left-color: var(--fill-color);\n",
              "      border-top-color: var(--fill-color);\n",
              "      border-right-color: var(--fill-color);\n",
              "    }\n",
              "    40% {\n",
              "      border-color: transparent;\n",
              "      border-right-color: var(--fill-color);\n",
              "      border-top-color: var(--fill-color);\n",
              "    }\n",
              "    60% {\n",
              "      border-color: transparent;\n",
              "      border-right-color: var(--fill-color);\n",
              "    }\n",
              "    80% {\n",
              "      border-color: transparent;\n",
              "      border-right-color: var(--fill-color);\n",
              "      border-bottom-color: var(--fill-color);\n",
              "    }\n",
              "    90% {\n",
              "      border-color: transparent;\n",
              "      border-bottom-color: var(--fill-color);\n",
              "    }\n",
              "  }\n",
              "</style>\n",
              "\n",
              "  <script>\n",
              "    async function quickchart(key) {\n",
              "      const quickchartButtonEl =\n",
              "        document.querySelector('#' + key + ' button');\n",
              "      quickchartButtonEl.disabled = true;  // To prevent multiple clicks.\n",
              "      quickchartButtonEl.classList.add('colab-df-spinner');\n",
              "      try {\n",
              "        const charts = await google.colab.kernel.invokeFunction(\n",
              "            'suggestCharts', [key], {});\n",
              "      } catch (error) {\n",
              "        console.error('Error during call to suggestCharts:', error);\n",
              "      }\n",
              "      quickchartButtonEl.classList.remove('colab-df-spinner');\n",
              "      quickchartButtonEl.classList.add('colab-df-quickchart-complete');\n",
              "    }\n",
              "    (() => {\n",
              "      let quickchartButtonEl =\n",
              "        document.querySelector('#df-e2d6e036-92b9-467b-abce-680aae74a899 button');\n",
              "      quickchartButtonEl.style.display =\n",
              "        google.colab.kernel.accessAllowed ? 'block' : 'none';\n",
              "    })();\n",
              "  </script>\n",
              "</div>\n",
              "\n",
              "    </div>\n",
              "  </div>\n"
            ],
            "application/vnd.google.colaboratory.intrinsic+json": {
              "type": "dataframe"
            }
          },
          "metadata": {},
          "execution_count": 2
        }
      ]
    },
    {
      "cell_type": "code",
      "source": [
        "def load_uk():\n",
        "    '''Загрузить данные по Великобритании'''\n",
        "    return pd.read_excel('UK2010.xls')"
      ],
      "metadata": {
        "id": "vPpBcOfs9j8c"
      },
      "execution_count": 7,
      "outputs": []
    },
    {
      "cell_type": "code",
      "source": [
        "def load_uk_scrubbed():\n",
        "    '''Загрузить и отфильтровать данные по Великобритании'''\n",
        "    df = load_uk()\n",
        "    return df[ df[ 'Election Year' ].notnull() ]"
      ],
      "metadata": {
        "id": "Eqzml5-c9rzW"
      },
      "execution_count": 8,
      "outputs": []
    },
    {
      "cell_type": "code",
      "source": [
        "def ex_1_6():\n",
        "    '''Число значений в поле \"Электорат\"'''\n",
        "    return load_uk_scrubbed()['Electorate'].count()"
      ],
      "metadata": {
        "id": "kNCGrnEy9vSs"
      },
      "execution_count": 9,
      "outputs": []
    },
    {
      "cell_type": "code",
      "source": [
        "ex_1_6()"
      ],
      "metadata": {
        "colab": {
          "base_uri": "https://localhost:8080/"
        },
        "id": "xFR0VHEp90Xg",
        "outputId": "73e29bb1-9a3b-48ab-dac1-a64892b86402"
      },
      "execution_count": 10,
      "outputs": [
        {
          "output_type": "execute_result",
          "data": {
            "text/plain": [
              "650"
            ]
          },
          "metadata": {},
          "execution_count": 10
        }
      ]
    },
    {
      "cell_type": "markdown",
      "source": [
        "Мы уже очистили столбец, отфильтровав пустые значения (`nan`) из набора данных, и поэтому предыдущий пример должен вернуть суммарное число избирательных округов.\n",
        "\n",
        "Описательные статистики, так называемые *сводные статистики*, представляют собой разные подходы к измерению свойств последовательностей чисел.\n",
        "\n",
        "Среднее значение на самом деле представляет собой один из нескольких способов измерения *центра распределения* данных.\n",
        "\n",
        "![4495dd06da9617989fbe5319a1972386.svg](data:image/svg+xml;base64,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)\n",
        "\n",
        "Среднее значение числового ряда вычисляется на Python следующим образом:"
      ],
      "metadata": {
        "id": "bqjFbqrB-Ihd"
      }
    },
    {
      "cell_type": "code",
      "source": [
        "def mean(xs):\n",
        "    '''Среднее значение числового ряда'''\n",
        "    return sum(xs) / len(xs)"
      ],
      "metadata": {
        "id": "ro00UzDC-nUf"
      },
      "execution_count": 11,
      "outputs": []
    },
    {
      "cell_type": "markdown",
      "source": [
        "Мы можем воспользоваться нашей новой функцией `mean` для вычисления среднего числа избирателей в Великобритании:"
      ],
      "metadata": {
        "id": "jwWSQswr-rVl"
      }
    },
    {
      "cell_type": "code",
      "source": [
        "def ex_1_7():\n",
        "    '''Вернуть среднее значение поля \"Электорат\"'''\n",
        "    return mean( load_uk_scrubbed()['Electorate'] )"
      ],
      "metadata": {
        "id": "ha0HpKGD-u86"
      },
      "execution_count": 12,
      "outputs": []
    },
    {
      "cell_type": "code",
      "source": [
        "ex_1_7()"
      ],
      "metadata": {
        "colab": {
          "base_uri": "https://localhost:8080/"
        },
        "id": "ffA84H7o-zJx",
        "outputId": "a45e4cc8-2bdc-4d21-df99-b02c0191844d"
      },
      "execution_count": 13,
      "outputs": [
        {
          "output_type": "execute_result",
          "data": {
            "text/plain": [
              "70149.94"
            ]
          },
          "metadata": {},
          "execution_count": 13
        }
      ]
    },
    {
      "cell_type": "markdown",
      "source": [
        "В нашем случае функцию mean, которая уже содержится в библиоттеке pandas, можно применить следующим образом:"
      ],
      "metadata": {
        "id": "Jf5aFJsI-6IZ"
      }
    },
    {
      "cell_type": "code",
      "source": [
        "load_uk_scrubbed()['Electorate'].mean()"
      ],
      "metadata": {
        "colab": {
          "base_uri": "https://localhost:8080/"
        },
        "id": "Ba-b9Bv2_Dr9",
        "outputId": "bcd83b7f-24d2-4241-a59b-4d8efd44a6a4"
      },
      "execution_count": 14,
      "outputs": [
        {
          "output_type": "execute_result",
          "data": {
            "text/plain": [
              "70149.94"
            ]
          },
          "metadata": {},
          "execution_count": 14
        }
      ]
    },
    {
      "cell_type": "markdown",
      "source": [
        "Если в последовательности число точек данных четное, то медиана определяется, как полусумма двух срединных значений."
      ],
      "metadata": {
        "id": "t1YWMObo_Mgj"
      }
    },
    {
      "cell_type": "code",
      "source": [
        "def median(xs):\n",
        "    '''Медиана числового ряда'''\n",
        "    n = len(xs)\n",
        "    mid = n // 2\n",
        "    if n % 2 == 1:\n",
        "        return sorted(xs)[mid]\n",
        "    else:\n",
        "        return mean( sorted(xs)[mid-1:][:2] )"
      ],
      "metadata": {
        "id": "1arPif9f_NJc"
      },
      "execution_count": 15,
      "outputs": []
    },
    {
      "cell_type": "markdown",
      "source": [
        "Медианное значение электората Великобритании составляет:"
      ],
      "metadata": {
        "id": "Avo6ffDz_SZh"
      }
    },
    {
      "cell_type": "code",
      "source": [
        "def ex_1_8():\n",
        "    '''Вернуть медиану поля \"Электорат\"'''\n",
        "    return median( load_uk_scrubbed()['Electorate'] )"
      ],
      "metadata": {
        "id": "TjJ9DV7d_TNn"
      },
      "execution_count": 16,
      "outputs": []
    },
    {
      "cell_type": "code",
      "source": [
        "ex_1_8()"
      ],
      "metadata": {
        "colab": {
          "base_uri": "https://localhost:8080/"
        },
        "id": "rJxW5Nf0_XJB",
        "outputId": "03edf476-ab21-4205-e4e5-13f1bcf87058"
      },
      "execution_count": 17,
      "outputs": [
        {
          "output_type": "execute_result",
          "data": {
            "text/plain": [
              "70813.5"
            ]
          },
          "metadata": {},
          "execution_count": 17
        }
      ]
    },
    {
      "cell_type": "markdown",
      "source": [
        "Библиотека pandas тоже располагает встроенной функцией для вычисления медианного значения, которая так и называется `median`.\n",
        "\n",
        "На языке математики дисперсия обозначается следующим образом:\n",
        "\n",
        "![0b9c93359e92b78696a3425945a63725.svg](data:image/svg+xml;base64,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)\n",
        "\n",
        "где s2  — это математический символ, который часто используют для обозначения дисперсии.\n",
        "\n",
        "Выражение\n",
        "\n",
        "![ae670e8b960092ff4386b2ce3f8b9602.svg](data:image/svg+xml;base64,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)"
      ],
      "metadata": {
        "id": "ZTFg1G2Q_bxF"
      }
    },
    {
      "cell_type": "code",
      "source": [
        "def variance(xs):\n",
        "    '''Дисперсия (варианс) числового ряда,\n",
        "       несмещенная дисперсия при n <= 30'''\n",
        "    mu = mean(xs)\n",
        "    n = len(xs)\n",
        "    n = n-1 if n in range(1, 30) else n\n",
        "    square_deviation = lambda x : (x - mu) ** 2\n",
        "    return sum( map(square_deviation, xs) ) / n"
      ],
      "metadata": {
        "id": "--M9pRXNBTiZ"
      },
      "execution_count": 18,
      "outputs": []
    },
    {
      "cell_type": "markdown",
      "source": [
        "Для вычисления квадрата выражения используется оператор языка Python возведения в степень `**`.\n",
        "\n",
        "В результате приведения единицы измерения к более естественному виду, снова обозначающему «людей», получим так называемое *стандартное отклонение*, или среднеквадратичное отклонение:"
      ],
      "metadata": {
        "id": "0NBvck4v_bsD"
      }
    },
    {
      "cell_type": "code",
      "source": [
        "def standard_deviation(xs):\n",
        "    '''Стандартное отклонение числового ряда'''\n",
        "    return np.sqrt( variance(xs) )\n",
        "\n",
        "def ex_1_9():\n",
        "    '''Стандартное отклонение поля \"Электорат\"'''\n",
        "    return standard_deviation( load_uk_scrubbed()['Electorate'] )"
      ],
      "metadata": {
        "id": "zQnx7qaxB0dv"
      },
      "execution_count": 24,
      "outputs": []
    },
    {
      "cell_type": "code",
      "source": [
        "ex_1_9()"
      ],
      "metadata": {
        "colab": {
          "base_uri": "https://localhost:8080/"
        },
        "id": "EqTaItaJB8sn",
        "outputId": "297fec30-32b0-4b70-daef-93e567df4c1e"
      },
      "execution_count": 25,
      "outputs": [
        {
          "output_type": "execute_result",
          "data": {
            "text/plain": [
              "7672.772645446216"
            ]
          },
          "metadata": {},
          "execution_count": 25
        }
      ]
    },
    {
      "cell_type": "markdown",
      "source": [
        "В библиотеке pandas функции для вычисления дисперсии (варианса) и стандартного отклонения имплементированы соответственно, как `var` и `std`. При этом последняя по умолчанию вычисляет несмещенное значение, поэтому, чтобы получить тот же самый результат, нужно применить именованный аргумент `ddof=0`, который сообщает, что требуется вычислить смещенное значение стандартного отклонения:"
      ],
      "metadata": {
        "id": "tb5RKx4pCe9M"
      }
    },
    {
      "cell_type": "code",
      "source": [
        "load_uk_scrubbed()['Electorate'].std( ddof=0 )"
      ],
      "metadata": {
        "colab": {
          "base_uri": "https://localhost:8080/"
        },
        "id": "mTbV7zq7Clva",
        "outputId": "e3642e6d-bbfd-4cd1-cc23-8a4c4968669a"
      },
      "execution_count": 26,
      "outputs": [
        {
          "output_type": "execute_result",
          "data": {
            "text/plain": [
              "7672.772645446216"
            ]
          },
          "metadata": {},
          "execution_count": 26
        }
      ]
    },
    {
      "cell_type": "markdown",
      "source": [
        "Медиана представляет собой один из способов вычислить *срединное* значение из списка, т.е. находящееся ровно по *середине*, дисперсия же предоставляет способ измерить разброс данных вокруг среднего значения.\n",
        "\n",
        "Для примера рассмотрим следующую ниже последовательность чисел:\n",
        "\n",
        "`[10 11 15 21 22.5 28 30]`\n",
        "\n",
        "0.0 (нулевой), 0.25, 0.5, 0.75 и 1.0 квантили иногда упоминаются в связи с *пятичисловой сводкой*.\n",
        "\n",
        "Квантили можно вычислить непосредственно в pandas при помощи функции `quantile`. Последовательность требующихся квантилей передается в виде списка."
      ],
      "metadata": {
        "id": "cM4bfVpPDHJe"
      }
    },
    {
      "cell_type": "code",
      "source": [
        "def ex_1_10():\n",
        "    '''Вычислить квантили:\n",
        "       возвращает значение в последовательности xs,\n",
        "       соответствующее p-ому проценту'''\n",
        "    q = [0, 1/4, 1/2, 3/4, 1]\n",
        "    return load_uk_scrubbed()['Electorate'].quantile(q=q)"
      ],
      "metadata": {
        "id": "t0mQ0ruDD4yb"
      },
      "execution_count": 27,
      "outputs": []
    },
    {
      "cell_type": "code",
      "source": [
        "ex_1_10()"
      ],
      "metadata": {
        "colab": {
          "base_uri": "https://localhost:8080/",
          "height": 241
        },
        "id": "TWSPX7p5D7ES",
        "outputId": "52128c57-ac75-42c6-d7a1-1f47d2420363"
      },
      "execution_count": 28,
      "outputs": [
        {
          "output_type": "execute_result",
          "data": {
            "text/plain": [
              "0.00     21780.00\n",
              "0.25     65929.25\n",
              "0.50     70813.50\n",
              "0.75     74948.50\n",
              "1.00    109922.00\n",
              "Name: Electorate, dtype: float64"
            ],
            "text/html": [
              "<div>\n",
              "<style scoped>\n",
              "    .dataframe tbody tr th:only-of-type {\n",
              "        vertical-align: middle;\n",
              "    }\n",
              "\n",
              "    .dataframe tbody tr th {\n",
              "        vertical-align: top;\n",
              "    }\n",
              "\n",
              "    .dataframe thead th {\n",
              "        text-align: right;\n",
              "    }\n",
              "</style>\n",
              "<table border=\"1\" class=\"dataframe\">\n",
              "  <thead>\n",
              "    <tr style=\"text-align: right;\">\n",
              "      <th></th>\n",
              "      <th>Electorate</th>\n",
              "    </tr>\n",
              "  </thead>\n",
              "  <tbody>\n",
              "    <tr>\n",
              "      <th>0.00</th>\n",
              "      <td>21780.00</td>\n",
              "    </tr>\n",
              "    <tr>\n",
              "      <th>0.25</th>\n",
              "      <td>65929.25</td>\n",
              "    </tr>\n",
              "    <tr>\n",
              "      <th>0.50</th>\n",
              "      <td>70813.50</td>\n",
              "    </tr>\n",
              "    <tr>\n",
              "      <th>0.75</th>\n",
              "      <td>74948.50</td>\n",
              "    </tr>\n",
              "    <tr>\n",
              "      <th>1.00</th>\n",
              "      <td>109922.00</td>\n",
              "    </tr>\n",
              "  </tbody>\n",
              "</table>\n",
              "</div><br><label><b>dtype:</b> float64</label>"
            ]
          },
          "metadata": {},
          "execution_count": 28
        }
      ]
    },
    {
      "cell_type": "markdown",
      "source": [
        "Когда квантили делят диапазон на четыре равных диапазона, как показано выше, то они называются *квартилями*. Разница между нижним (0.25) и верхним (0.75) квартилями называется *межквартильным размахом*, или иногда сокращенно МКР.\n",
        "\n",
        "В целях развития интуитивного понимания в отношении того, что именно все эти расчеты разброса значений измеряют, мы можем применить метод под названием *группировка в частотные корзины* (binning). Когда данные имеют непрерывный характер, использование специального словаря для подсчета частот `Counter` (подобно тому, как он использовался при подсчете количества пустых значений в наборе данных об электорате) становится нецелесообразным, поскольку никакие два значения не могут быть одинаковыми. Между тем, общее представление о структуре данных можно все-равно получить, сгруппировав для этого данные в частотные *корзины* (bins).\n",
        "\n",
        "Подсчитав количества точек, попадающих в каждую корзину, мы можем получить представление о разбросе данных:\n",
        "\n",
        "![de91cf326c33711422e676b4f1d2e84e.jpeg](data:image/jpeg;base64,/9j/4AAQSkZJRgABAQEAYABgAAD/2wBDAAMCAgMCAgMDAwMEAwMEBQgFBQQEBQoHBwYIDAoMDAsKCwsNDhIQDQ4RDgsLEBYQERMUFRUVDA8XGBYUGBIUFRT/2wBDAQMEBAUEBQkFBQkUDQsNFBQUFBQUFBQUFBQUFBQUFBQUFBQUFBQUFBQUFBQUFBQUFBQUFBQUFBQUFBQUFBQUFBT/wAARCAB0Al0DASIAAhEBAxEB/8QAHwAAAQUBAQEBAQEAAAAAAAAAAAECAwQFBgcICQoL/8QAtRAAAgEDAwIEAwUFBAQAAAF9AQIDAAQRBRIhMUEGE1FhByJxFDKBkaEII0KxwRVS0fAkM2JyggkKFhcYGRolJicoKSo0NTY3ODk6Q0RFRkdISUpTVFVWV1hZWmNkZWZnaGlqc3R1dnd4eXqDhIWGh4iJipKTlJWWl5iZmqKjpKWmp6ipqrKztLW2t7i5usLDxMXGx8jJytLT1NXW19jZ2uHi4+Tl5ufo6erx8vP09fb3+Pn6/8QAHwEAAwEBAQEBAQEBAQAAAAAAAAECAwQFBgcICQoL/8QAtREAAgECBAQDBAcFBAQAAQJ3AAECAxEEBSExBhJBUQdhcRMiMoEIFEKRobHBCSMzUvAVYnLRChYkNOEl8RcYGRomJygpKjU2Nzg5OkNERUZHSElKU1RVVldYWVpjZGVmZ2hpanN0dXZ3eHl6goOEhYaHiImKkpOUlZaXmJmaoqOkpaanqKmqsrO0tba3uLm6wsPExcbHyMnK0tPU1dbX2Nna4uPk5ebn6Onq8vP09fb3+Pn6/9oADAMBAAIRAxEAPwD9U6KKKACuP0/4iRah8VNZ8EixdJtN0u21NrwyArIJpJUCBcZBHlZznvXYV4z4c/5O18a/9irpf/pRdUAezV4T4x+P3jzw5Pr99ZfBrV9R8L6HLKtxqcupwQTXEUZIaaC3OWdMAsDkZFe7V4n+0j8T7nTNJX4e+EoF1f4h+K4JLSxsVOVtIGBWS8nP8EaAnk9TgDPNAHpvgLxrpnxH8GaN4n0aRpdL1W2S6gLjDBWGcMOxByD7g1v1yPwk+H1v8Kfhn4a8I2spuItHso7UzEY8xgPnbHbLFjj3rrqACiiigAooooAKKKKACiiigArmvhz40j+Ifg6w1+K0exS7MoEDuHK7JXj6j12Z/GulrG8IeE9P8D+HrXRdLWRLG2LmNZXLt87s7ZJ92NAGzXjn/DTeg3fx+sfhbpllcaldSrOt1q0TgW1tPFGZGg/23A27gPu7gDzkCz+0zr/jfRPhwIfAWk3+o6tqN3HZTz6ZEstzY2zBjLPErEAuANq5IAZge1fMtr4mTwN8a/gtYaL8J/GOjWuj2uqRR6ffRQNeag00aiW43CQh2B+eRmIPPHpQB96UUUUAFFFFABRRRQAUUUUAFFFFAHO+PPGMfgbQY9TktXvFe+s7Ly0cKQbi5jgDZP8AdMm7HfGK6KsjxT4WsPGGlpp+orI1stzb3YEblT5kMyTR8jtvjXI7jitegDxz4sfH7Uvh/wDEXRfBeheBb/xprGp6dLqSR2V7Db7I43CNnzMA9R37103wt8e+KPG/9pf8JJ8P9Q8DfZvL8j7dewXP2rdu3bfKJ27cDr13DHSuQ+LPwP8AFfjD4r6H468JeM7XwnqOl6VNpg+0aWL3eJJA5OGcADgDpmj9nn4n+K/EfiDx14G8dfYbnxR4Qu4Y5NS02MxQXsE6F4pNmTsbAOR7j3oA9sooooAKKKKACiiigAooooAKKKKAOXHjmM/E0+Dvsb+aNHGr/a9427fO8rZtxnPfOa6O7n+y2s02x5fLRn2RjLNgZwB61k/8Ihp3/CaHxTtk/tY6f/Zm7ednk+Z5mNvTO7vW3QB84a7+1L4z8H6CfFviT4Mazo3geNlNzfSalbve20RbHmyWo5A5GRuyK+h9Pv4NVsLa9tXEttcxLNE4/iRgCD+RFfOH7Yeg+NZ/Cer6tLqVnqXwusYIrnWvCsCG1vr6GNt0qrdfMADgHaFXIUjdzX0D4S1Kx1nwpo2oaXH5OmXVlDPax7du2JkDIMdsKRQBrUUUUAFFFFABRRRQAUUUUAFFFFAHMfDzxxH8QNEu9RitHslt9RvNOMbuHLG3neEvkDoxTOO2aseOPHmg/Dfw9NrniTUU0vS4mVHuJEZgGY4UYUEkk+gqTwl4Q07wTps9hpiyJbzXlxfOJXLnzZpWlkOT23OcDtWy6LIMMoYehGaAPPfgV8ZrH47+B38UabYT6fY/b7iziS4YF3WJ9okIA+XcMHb1HSvRK+d/2F+Pg5q3/Y0av/6VNX0RQAUUUUAFFFFABRRRQAUUUUAFc38RPGcfw+8H32vS2r3qWrRKYEcIW3ypH1Ppvz+FdJWP4u8Kaf438P3Ojaosj2NwY2kETlGyjq64I/2lFAGxRRRQAUUUUAFFFFABXjPhz/k7Xxr/ANirpf8A6UXVezV4z4c/5O18a/8AYq6X/wClF1QB7NXzbp37L3jrw3438VeJvD3xbOm33iG8a4uJrjw7BdTiPJ8uESyOTsQYAUYHGcV9JUUAc38P9D8QeHfDcVl4m8Sf8JXqyyOz6l9iS03qTlV8tCQMDjPeukoooAKKKKACiiigAooooAKKKKACuB+BOn6ppfwr0a21qG5g1JGuPNjvM+aM3EhXOefulce2K76uf8B+MrX4geFbLXrKGa3troyBY5wN42SNGc4JHVCetAHQV5/4q+FC+Jvi94I8cnU2t28MwXsIsRDuFx9ojCZ35+XbjPQ59q9AooAKKKKACiiigAooooAKKKKACiiigDhfjNYanqPgyCHSYrma7GsaXIVtc7/KW/gaU8fwhA5b2BruqwvGni628EaKmpXcMs8L3lrZBIcbt088cCnkjgNICfYGt2gDyj4ifDv4k6t4sbWfBfxMHhu0lt0gl0fUNIjvrYMuf3qEsrKxyMjpwKufBL4LR/COy1y5vNZuPE3ifxBefb9X1q5iWJriTGFVUXhEUZAXtk/Qel0UAFFFFABRRRQAUUUUAFFFFABRRRQB52NO1b/hoRr/AMm6/sL/AIRcQedz9n+0fay23037OfXFdzq9lJqWk3tnDdS2MtxA8SXUH+shZlIDr7jOR9KyP+E2tD8Qz4Q8ib7cNL/tbz8DyvL87ytvXO7PPTGO9dFQB83a5+zf8TPHWh/8Ip4w+McmseDZSqXkNtocVtfXsKkHy5JwxABxyQvPvX0RpunW2kada2FnEILS1iSCGJeiIoCqo+gAFWaKACiiigAooooAKKKKACiiigAooooA88+BunatpnhHUotZhuoLpte1WWNbzO8wteytERn+EoVK+xFdH450jX9b8PyWvhrxAnhnVTIjLqElit4FUH5l8tiAcjjOeKb4F8bWnj3SLnUbOCa3igv7rT2WcDcXgmeFmGCeCUJHsRXRUAeK/AD4EeJPgiLmxn8dp4g8Pzy3F2dOOjx27C5mkDvJ5odjjO75cY59q9qoooAKKKKACiiigAooooAKKKKACuC+Olhqmp/C7V7bRobmfUne2MUdnnzSBcxFsY5+6GJ9s13tYHjvxja+APC15rt7DNcW1s0StHABvO+RYxjJA6uD9KAN+iiigAooooAKKKKACvGfDn/J2vjX/sVdL/8ASi6r2avGfDn/ACdr41/7FXS//Si6oA9mooooAKKKKACiiigAooooAKKKKACiiigArB8DeDrPwD4Xs9CsJJprS1MhR7ggud8jSHJAA6ue3St6uC+Bc+rXPwt0aTXGvH1Qtcea1+GE2PtEm3du5+7txntigDvaKKKACiiigAooooAKKKKACiiigAooooAw/GPhK08baOmm3sk0UCXdreBoCA2+CdJkHIPBaNQfbNblcN8ZJ9Vt/BsD6O12t5/a+lqTZBvM8o30Al+7zt8svu7bc54ruaACiiigAooooAKKKKACiiigAooooAKKKKAOe/4QqyHj8+LvNm/tE6Z/ZXlbh5Xleb5ucYzu3e/TtXQ156LjWP8AhoFoN97/AMI//wAIuH2Yb7N9p+1kZ/u+Zs/HHtXoVABRRRQAUUUUAFFFFABRRRQAUUUUAFFFFAHP+CPBVl4D0m50+wlmlhnvrrUGadgWEk8zzOBgDgM5A9sda6CvPfgfcaxc+EtSbW2vXuxruqLGb4MH8gXkoiA3c7Nm3b224xxXoVABRRRQAUUUUAFFFFABRRRQAUUUUAFYXjjwfZ+PfDF3od/JNFa3LRs7wEBxskWQYJBHVB26Vu1wfxyn1a2+GGryaG14mph7bymsAxmx9oiDbdvP3d2fbNAHeUUUUAFFFFABRRRQAV4z4c/5O18a/wDYq6X/AOlF1Xs1eM+HP+TtfGv/AGKul/8ApRdUAezUUUUAFZ+ueIdL8Mae9/rGpWmlWKEBrm9nWGME9AWYgVoV+Sv7d3j/AFnxj+0L4g0nUZ5RpegulnYWTE+XGPLVmkC9Czlid3XGB0FAz9WdC8R6T4p09b7RtTs9WsmJAubGdJoye43KSM1o1+RX7D/xA1nwT+0L4Z0/TJ5P7O12c2F/ZAny5UKsQ5XpuQgEN1xkdCa/XWgQUUV5X+1J431X4c/AHxn4g0ORodVtbMLBOoyYWkkWPzB7qHLfhQB2d78RPCum66mi3fiXSLXWHIVdPmvoknJPQeWW3ZP0roa/BC4ke7uJJ7h3uLiRi8k0rFndjyWLHkn3r9Vf+CfPxB1vx78BtmuXM19Lo+oy6bb3c7FnkhVI3UMx5YrvK5PYCgdj6aooooEFYngzxdYeO/DdprmmeaLK5Mgj89Nj/I7IcjJ7qa265v4d+C4vh74PsdAhunvY7QykTyKFZt8rycgem/H4UAdJXPWHxD8K6rrb6NZeJdIvNXQkNYQX0TzqR1BQNu478V4F/wAFDPH2t+B/gOkOiXM1i+s6jHp1zdQMVdYCkjsoYcjdsC5HYkd6/K+2lksrmK4tpHtrmJg8c0LFHRh0ZWHIPuKB2P3uory79mLxzqnxI+AngzxFrbeZqt3ZYuJSMeayO0fmfVggb8a4T9vfx/rfw/8A2fL2bQrmWxutTvYdNlu4CVeKGQOX2sOVJCbcj+9QI9rt/iJ4Vu9ebQ4PEujza0rFDp0d/E1wGHUeWG3ZHpiuhr8D42aGZZo2aKZG3rKjFXVv7wYcg+9fsf8AsjePNX+JH7PfhLXNeke41R4ZLeW5f70/lSvGJD6khBk9zk0Dsew1zw+InhU+IP7CHiXSDre7Z/Zv26L7Ru9PL3bs+2K8l/bg+IOtfDj9nnW7/QZ5LS/u5odP+1xEh4I5Ww7qexxlQexbI5r8isnzfN3N5u7f5mTu3dc56596AsfvhRXhn7FXj7WfiN+zx4d1PXppLvUYWmsmu5jl7hIpCiOx7naACe5Unqav/tfeOtX+HP7PPi3WdCklt9TEUdtFdRcNb+bKsbSA9iAxwexwaBHoc/xE8K22vjQ5vEukRa0W2jTnvohcFvTyy27Ptiuhr8D5CZpmmkZpJmbe0rkl2bOdxY8k571+tP7B3j/WfiD+z1ps+uzzXl3p13PpqXk7Fnnij2lGLHkkBtmf9igdj27xZ4rsfBmkpqOoeabd7q2sx5Kbm8yeZIU49N0i5PYZrZrnvHXg+LxzoUemS3L2iJfWd75kahiTb3Ec4XB7MYwD9ayvjZ4uvvAXwi8YeItMiM2o6bpc9zbqBnDqh2sR3APJ9hQI1tY+IXhbw9qsWmar4l0jTdSlx5dneX0UUrZ6YRmBOe3Fb4IYAg5B6EV+C2pX91rmoXGoalcy6hf3TmWe6uXMkkrnkszHkmv0t/4JseP9a8V/CjXNH1W4mvLfQr9YLKedizLE8YbysnspBx6BgOgFA7H1rf6ha6VZzXl7cw2dpCu+We4kCRovqzHgD61neG/Gnh/xlDLLoGuabrccR2yPp13HOEPodhOPxr88/wDgpf8AELWr34maV4LM8sHh6z0+O++zKxCXM0jON7j+LaEAGeh3etfNPwU8eax8Mvij4c1zQZpYbpL6GKSCFiBdRM4V4mA+8GBIwe+D1FAWP27rn9b+IXhbw1qUOnav4k0jS9QmwY7W9vooZXz0wrMCc1m/GXxbe+AvhP4u8RabEJtQ0zS7i6gVhkb1QlSR3APJ+lfiTq2p3niHUrrUtUupdS1G7cy3F1cuXklc8ksT1oCx+86sHUMpBUjII71DfX1tplpLdXlxFaWsKl5J53CIijqSx4A+tfIP/BNL4g634p+GviLQdUnmvLPQbyJLGeZixSORCTCCeylcgdg+OmK8o/4KafEHWrjx/oXgoTS2/h+309dQaBWIS5md3Xc4/iChMAHoSxoCx+gXhvxr4e8ZRyyaBrum62kJxI2nXcc4Q/7WwnH41tV+H/we8d6x8M/iV4f13QLiW2vYryFHjiYgXEbOA8TgfeVgSMH2PUV+yvxW8U3fgn4ZeK/EFhCLi90vS7m8giIyC6Rsy5Hpkc0AW9c+IXhbwxqMNhrHiTSNKvpsGO2vb6KGR89MKzAmt9WDqGUhlIyCOhr8GdZ1a98S6pdapq13LqWpXjmW4urli7yueSST/kV+jn/BM7x7rXiT4eeJ9A1O5mvLHQruEWEkzFjFHKjExAn+FSmQO2/0oCx9Xf8ACZaf/wAJwfCn77+1Rp39qfc/d+T5vlfez97d2x0rdrmB4HiHxMPjH7XJ550gaR9k2jZt87zd+euc8Yrf1G5ay0+5uEjMzwxNII16sQCcfjQIy/Efjrw34OaBde8QaXojT/6oajeRwGT/AHd5Ga17W6hvbeK4t5o7iCVQ8csTBldT0II4Ir8MfH3jbV/iX4v1TxJr9y97qd/M0rtISRGCeI0B+6qjAAHQCvtL/gmF4/1q41bxX4MnuJLjQra0TUbaKQki2kMmxlX0DAg46ZUnuaB2P0BooooEIzBQSSABySe1YGi/ELwt4k1OXTtJ8SaRqmoQ58y0s76KWVMdcqrEjFfLf/BSz4ga34W+GXh7Q9LuZbO0169liv5YWKs8UaBhFkdAxYE+oXHQmvza0rUrvQNSttS0y5l0/ULSQS291bMUkicHIZSOlA7H700Vxvwb8V3vjn4T+EPEOpRiPUNT0u3urgAYBkaMFiB2BPIHvXZUCCsnxH4t0PwfaJda7rNhots7bFm1C5SBGb0BYjJ9q1q/GL9qHx9rPxF+OXi661ueWQWOoz6faWsh+S1gikZFRV6DpknuSSaBn7JaVq9jrthFfabe2+oWUwzHc2sqyxuPUMpIP4Vbr8v/APgnF4/1rRfjaPCdvcyvoGsWc8txZkkxxyxLvWVR/CeqkjruGegr9QKBGF4O8Zaf440u4v8ATfOEEF7c2D+cm1vMglaKTAz03IcHuK3a5j4feB4vh/ol1p0N3JeLcajeagZJFCkNcTvMVwOyl8A+1dPQAUUUUAFFFFAFDW9e0zw1p8l/q+o2ml2MeA9zezrDGuemWYgCmaB4l0jxVYC+0XVLLV7MnaLixuEmjz6blJGa/LL9v7x5rPin9oPWdDvp5RpGhLDb2NkzHy13RI7y7ehZi3XrgAdqwP2LPiBrPgT9oTwpa6XPILLW7tdNv7MMfLmjfI3Fem5Dhge2D2JoHY/X6iiigQUUUUAFYvjLxbY+BfDl1repeabK2aNX8hN75eRY1wMju4rarnPiF4Mi+IPhG90Ga6ezjumiYzRqGZdkqSDg+uzH40AdHRRRQAUUUUAFFFeXeI/jnN4d16+0xfhv471VbWTyxe6dpKS283AO6NjKMjnrgdKAPUa8Z8Of8na+Nf8AsVdL/wDSi6p//DRk/wD0Sj4kf+CWP/49Xl+h/G6aD9pDxXq//CufHUhuPDun2/2BNKQ3Ue2e4PmOnm4CNuwDnkq3HFAz6zorxz/hoyf/AKJR8SP/AASx/wDx6j/hoyf/AKJR8SP/AASx/wDx6gR7HXzZ+0r+xLoHx+11PEdpqsnhnxJ5QhnuUgE0N2qjCeYmVO5RwGB6YBBwMdh/w0ZP/wBEo+JH/glj/wDj1H/DRk//AESj4kf+CWP/AOPUDOK/Zr/Yf0D4C+IT4lvtXk8T+I1jaK2me3EMNoGGGKJliWI43E8AkAcmvpivHP8Ahoyf/olHxI/8Esf/AMeo/wCGjJ/+iUfEj/wSx/8Ax6gD2Os3xJ4d03xdoGoaLrFpHf6XfwNb3NtKPlkjYYIP+PavLv8Ahoyf/olHxI/8Esf/AMeo/wCGjJ/+iUfEj/wSx/8Ax6gR866n/wAEttPl8QM+n+Prm10NnLC3n09ZbiNc/dEm8KfqV/CvsH4W/DDQfg94I0/wt4ct2g06zU/NId0k0hOXkkbAyzHkn8BgACuI/wCGjJ/+iUfEj/wSx/8Ax6j/AIaMn/6JR8SP/BLH/wDHqBnsdFeOf8NGT/8ARKPiR/4JY/8A49R/w0ZP/wBEo+JH/glj/wDj1Aj2OuC+Betan4h+FujahrFxLdajK1wJZZ12u224kVcjA6KAOnauZ/4aMn/6JR8SP/BLH/8AHqoaF+1Xa+J9Lh1LSfhr8QtRsJiwjubfR42RyrFWwfO7MpH1BoA9C+LHws0H4zeBr/wt4igaWwugGWSJtskEi8pKh7Mp59OoIIJFfIWkf8EttOh19ZNT8e3N3oiuGNvb2Cw3Ei5+6ZC7BeO4X8q+iv8Ahoyf/olHxI/8Esf/AMeo/wCGjJ/+iUfEj/wSx/8Ax6gZ6poGg6f4X0Sw0fSrWOy02xgS3t7eIYWONRhQPwFY/wASvhzofxY8F6l4X8RWv2rS75NrhTteNgcrIjdmUgEH1HccVwf/AA0ZP/0Sj4kf+CWP/wCPUf8ADRk//RKPiR/4JY//AI9QI+c7T/glrYpr4a6+IF1NoYfJhi09UuWXP3fM3lQf9rb+FfbPhPwrpfgfw1pugaJaJY6Vp0C29vbx9EQD9T3J6kkmvMv+GjJ/+iUfEj/wSx//AB6j/hoyf/olHxI/8Esf/wAeoGeiePfAujfErwhqfhnxBaC80nUYjFNHnBHcMp7MpAIPYgV8Xj/glpY/2/uPxBuv7D358kacv2rb/d8zftz/ALWz8K+jP+GjJ/8AolHxI/8ABLH/APHqP+GjJ/8AolHxI/8ABLH/APHqAPRvA/grR/hz4S0vw3oNqLLSdOhEMEIOTjqST3Ykkk9ySal8X+E9L8d+GNT8Pa3are6VqUDW9zAxxuRh2PYjqCOhANeaf8NGT/8ARKPiR/4JY/8A49R/w0ZP/wBEo+JH/glj/wDj1Aj5zuf+CWti2vlrf4gXUWhlyRDJp6vcqufu+ZvCk9t238K+yvhz8PdF+FXgvS/C/h62NtpWnx7Iw7bnckks7t3ZmJJPqa4H/hoyf/olHxI/8Esf/wAeo/4aMn/6JR8SP/BLH/8AHqBnVfGTWNS0LwbBdaVPLb3Z1fS4C8K7m8qS+gSUdDwUZgfYmuxv7C31SxubK7hS4tLmNoZoZBlXRgQykehBIrxbWf2qrXw7Zrd6p8NPiFYWzTR26yz6PGqmSRwka/67qzMqj3Iq9/w0ZP8A9Eo+JH/glj/+PUCPnvxR/wAEu9KvfEcs+geNp9J0SWQsLG5sRcSQKT91JN67gO24Z9SetfVfwV+DPh/4E+Bbbwx4eSVoFcz3F1cEGW6mYANI5HGeAABwAAK5j/hoyf8A6JR8SP8AwSx//HqP+GjJ/wDolHxI/wDBLH/8eoGVP2lf2VfD37R9hYyXl5Lomv6eGS11W3jEh8snJjkQkb1zyOQQc4PJB8w+Bn/BPDQ/hj4zsfE3iLxC/im706UT2dmlqLe3SUHKSPlmLlTyBkDIB5r1r/hoyf8A6JR8SP8AwSx//HqP+GjJ/wDolHxI/wDBLH/8eoA9dvbODUbOe0uoUuLaeNopYpBlXRhhlI7ggkV8QeLv+CX2k6h4klufDvjOfRdFmkLiwubEXD26k/dSTeuQO24Z6ZJ619Bf8NGT/wDRKPiR/wCCWP8A+PUf8NGT/wDRKPiR/wCCWP8A+PUAdH8EPgp4f+A3gaDw14fWSRN5nury4IM11MQA0j44HAAAHAAArlf2lP2W/D37SGlWAv7ubRtc07cLPVLaMOVRsbo3Q43oSAcZBB6Hk5n/AOGjJ/8AolHxI/8ABLH/APHqP+GjJ/8AolHxI/8ABLH/APHqAPIfgj/wTq0P4b+M7HxJ4k8RP4pn0+UT2lilp9nt1lU5R3yzF9p5A4GQM56V9eXNtFeW8tvPGs0EqFJI3GVZSMEEdwRXkP8Aw0ZP/wBEo+JH/glj/wDj1H/DRk//AESj4kf+CWP/AOPUAfP/AIy/4Jf6RqfiWa68N+MptE0aaQv/AGfc2IuGtwTnbG+9cgdtwyBjk19P/Az4HeHvgF4Ij8O6AJZt8hnu765wZrqYgAu2OBwAAo4AH1JwP+GjJ/8AolHxI/8ABLH/APHqP+GjJ/8AolHxI/8ABLH/APHqAOhGuar/AMNAto32ib+xP+EXF39n2/u/tH2spuzj723jGenavQq8N/4astP7e/sT/hWvxC/tf7N9t+xf2PH5vkb9nmY877u7jPrV/wD4aMn/AOiUfEj/AMEsf/x6gR4r8XP+CbeieNvGN9rvhjxM/hiK/mae406WzFxCjscsYiHUqCSTtOQCeMDivcP2c/2a/Dv7OXhu6sdKml1TVb91e+1a5QLJNtztQKOERcnC88kkk1D/AMNGT/8ARKPiR/4JY/8A49R/w0ZP/wBEo+JH/glj/wDj1Az2OivHP+GjJ/8AolHxI/8ABLH/APHqP+GjJ/8AolHxI/8ABLH/APHqBHSfG74KeHvjz4Gn8NeIEkRN4ntb23wJrSYZAkQkEdCQQeCCRXyx4T/4Je6TYeJIrnxD41n1jRYZA5sLaxFu86g/cd97YB6HaM46EV9B/wDDRk//AESj4kf+CWP/AOPUf8NGT/8ARKPiR/4JY/8A49QM9csbG30yyt7O0hS3tbeNYYYYxhY0UYVQOwAAFT145/w0ZP8A9Eo+JH/glj/+PUf8NGT/APRKPiR/4JY//j1Aj2OvlD9oT9gPQvjH4vufFOia4/hbV70h76I2ont7iTvJt3KVc98Eg4zjOSfTP+GjJ/8AolHxI/8ABLH/APHqP+GjJ/8AolHxI/8ABLH/APHqBmL+zP8Asg+Hf2dHvNSS/l8QeJbyPyX1KeIRLDFnJjiQE7QSASSSTgdBxXvteOf8NGT/APRKPiR/4JY//j1H/DRk/wD0Sj4kf+CWP/49QI6H4H65qviDwlqVzrFxNc3Ueu6pbo867WEMd5KkSjgcBFUA+gr0KvDdE/astPElpJdaV8NfiDqFtHNJbPLBo8bKssbFJEP77qrAg+4q/wD8NGT/APRKPiR/4JY//j1AHsdFeOf8NGT/APRKPiR/4JY//j1H/DRk/wD0Sj4kf+CWP/49QB7HRXjn/DRk/wD0Sj4kf+CWP/49R/w0ZP8A9Eo+JH/glj/+PUAcp+0v+xXoH7QWsQ+ILfVJPDXiVIhBLdxwCaK6RfuiRMjlegYEccHOBih+zd+wzoPwI8SjxPqGsyeJ/EMUbR2sjW4ggtdwwzIm5iXIyNxPAJwOc13X/DRk/wD0Sj4kf+CWP/49R/w0ZP8A9Eo+JH/glj/+PUDPY6K8c/4aMn/6JR8SP/BLH/8AHqP+GjJ/+iUfEj/wSx//AB6gR7HRXjn/AA0ZP/0Sj4kf+CWP/wCPUf8ADRk//RKPiR/4JY//AI9QB7HXB/HLWtT8P/C/V7/R7iW11GJ7YRywLucBriJWwMHqpYdO9cx/w0ZP/wBEo+JH/glj/wDj1VdU/altNAsze6x8OfH+kacjokt7d6OixRbmCAsRKTjcwHA70Ae20VxR+Jj/APQoeKP/AAAX/wCOV+TWgftLfFD4e63d/wBh+NdXgt47qUrZXk32mADeflMcm4D0wMUAfs1RX5z/AA0/4KWeNXvIdP1/wba+K5nIVf7D8yC5Y/8AXPDhj7ACvsPwp8c73xLosN/L8MvG+lvJ1t7uwhVx78yg498CgD1WikZgiksQAOST2paACvGfDn/J2vjX/sVdL/8ASi6r2avGfDn/ACdr41/7FXS//Si6oA9mooooAKKKKACiiigAooooAKKKKACiiigAryD9kv8A5IF4c/6633/pbPXr9eQfsl/8kC8Of9db7/0tnoA9fooooAKKKKACiiigAooooAKKKKACiiigDyL9qL/km2n/APYx6N/6cIK9dryL9qL/AJJtp/8A2Mejf+nCCvXaACiiigAooooAKKKKACiiigAooooAKKKKAPHh/wAnet/2Io/9OBr2GvHh/wAnet/2Io/9OBr2GgAooooAKKKKACiiigAooooAKKKKACiiigDxr9lP/knOsf8AYz61/wCl0tey141+yn/yTnWP+xn1r/0ulr2WgAooooAKKKKACiiigAooooAKKKKACvJP2rv+SB+Jv9+z/wDSyGvW68k/au/5IH4m/wB+z/8ASyGgD1qvmrwj/wAE+vhN4fu3vdVsb7xTevK0ztqdyRFuLFuIo9q456HNfS1FAGJ4Z8D+HfBdqLfQNC07RYAMbLC1SEH67QM1t0UUAfO/jrUm8eftc+GfAWpYufC+l+HZ9duNNkGYbu5eTyozKvRwi5IDZGTnqBS/sz6jcaJ8UPjL4ASeaTQvD2q29xpUErlxaQ3MRdoEJ5CKykqvQZ4rc+Inw01+w+O/hj4p+GbJdae202bRNV0cTpBLLbsxeOWJ3IQsrnlWIyOh4rR+B3wy1bwrr3jzxh4ijhtdd8Yakt29hBIJVsreJPLgiMg4d9uWYjjLYGcZIB61TBDGJTIEUSEBS+OSPTNPooAKKKKACiiigAooooAKKKKACiiigAooooAKZFEkCBI0WNB0VRgCn0UAFFFFABRRRQAUUUUAFFFFABRRRQAUUUUAMkiSZdsiK65BwwyMjoafRRQAUUUUAFFFFABRRRQAUUUUAFFFFABRRRQAzyk83zdi+Zt278c49M+lPoooAKKKKACiiigAooooAKKKKACiiigAooooAZFDHCpWNFjUkkhRgZPU0+iigAooooAKKKKACiiigAooooAKKKKACmSxJMhSRFkQ9VYZBp9FABWJ4z1y/wDDfhfUdT0zRpfEF7axNKmnQSrFJPgZKqzcZx+dbdcp8QdR8V2ljZ2vhLSbe+vr2b7PJfXdwscOmoQf9IZD80uOyLyTgEgZIAOH+H/7RCfFfS/CV34R8PTasdTijudY3XSxR6JGSVZZHI+eUMGAiUAkKWO0EZ9jrwf4JfDfxV8EvHfibw1a6f8A2x4A1a6Gs22tzXcSTWtxImLiJ4gMuWdFZSAFAY+mK94oAKKKKACiiigAooooAKKKKACiiigAooooAKKKKACiiigAooooAKKKKACiiigAooooAKKKKACiiigAooooAKKKKACiiigAooooAKKKKACiiigAooooAKKKKACiiigAooooAKKKKACiiigAooooAKKKKACiiigAooooAKKKKACiiigAooooAKKKKACiiigAooooAKKKKACiiigD/9k=)\n",
        "\n",
        "На приведенном выше рисунке показано 15 значений *x*, разбитых на 5 равноразмерных корзин.\n",
        "\n",
        "Следующая ниже функция Python `nbin` позволяет добиться того же самого результата:"
      ],
      "metadata": {
        "id": "QYfj8VmtEEaA"
      }
    },
    {
      "cell_type": "code",
      "source": [
        "def nbin(n, xs):\n",
        "    '''Разбивка данных на частотные корзины'''\n",
        "    min_x, max_x = min(xs), max(xs)\n",
        "    range_x = max_x - min_x\n",
        "    fn = lambda x: min( int((abs(x) - min_x) / range_x * n), n-1 )\n",
        "    return map(fn, xs)"
      ],
      "metadata": {
        "id": "2a_hOXFJFIk2"
      },
      "execution_count": 29,
      "outputs": []
    },
    {
      "cell_type": "markdown",
      "source": [
        "Например, мы можем разбить диапазон 0-14 на 5 корзин следующим образом:"
      ],
      "metadata": {
        "id": "TtHSr0ciFOXp"
      }
    },
    {
      "cell_type": "code",
      "source": [
        "list( nbin(5, range(15)) )"
      ],
      "metadata": {
        "colab": {
          "base_uri": "https://localhost:8080/"
        },
        "id": "IOsthq8dFQ_W",
        "outputId": "68792e69-2ec5-4486-8921-f139a824658d"
      },
      "execution_count": 30,
      "outputs": [
        {
          "output_type": "execute_result",
          "data": {
            "text/plain": [
              "[0, 0, 0, 1, 1, 1, 2, 2, 2, 3, 3, 3, 4, 4, 4]"
            ]
          },
          "metadata": {},
          "execution_count": 30
        }
      ]
    },
    {
      "cell_type": "markdown",
      "source": [
        "После того, как мы разбили значения на корзины, мы можем в очередной раз воспользоваться словарем `Counter`, чтобы подсчитать количество точек в каждой корзине. В следующем ниже примере мы воспользуемся этим словарем для разбиения данных об электорате Великобритании на пять корзин:"
      ],
      "metadata": {
        "id": "4U9mIJbeFfoM"
      }
    },
    {
      "cell_type": "code",
      "source": [
        "from collections import Counter\n",
        "\n",
        "def ex_1_11():\n",
        "    '''Разбиmь электорат Великобритании на 5 корзин'''\n",
        "    series = load_uk_scrubbed()['Electorate']\n",
        "    return Counter( nbin(5, series) )"
      ],
      "metadata": {
        "id": "IyrRMPhVFvjC"
      },
      "execution_count": 33,
      "outputs": []
    },
    {
      "cell_type": "code",
      "source": [
        "ex_1_11()"
      ],
      "metadata": {
        "colab": {
          "base_uri": "https://localhost:8080/"
        },
        "id": "W7prkaC4GGBs",
        "outputId": "c7140b1b-805b-48aa-dbcc-b2016aeb3800"
      },
      "execution_count": 34,
      "outputs": [
        {
          "output_type": "execute_result",
          "data": {
            "text/plain": [
              "Counter({1: 26, 2: 450, 3: 171, 4: 1, 0: 2})"
            ]
          },
          "metadata": {},
          "execution_count": 34
        }
      ]
    },
    {
      "cell_type": "markdown",
      "source": [
        "Мы уже увидели, каким образом можно выполнить разбиение данных на корзины самостоятельно, однако в библиотеке pandas уже содержится функция `hist`, которая разбивает данные и визуализирует их в виде гистограммы."
      ],
      "metadata": {
        "id": "_oeLcC9DGkeT"
      }
    },
    {
      "cell_type": "code",
      "source": [
        "def ex_1_12():\n",
        "    '''Построить гистограмму частотных корзин\n",
        "       электората Великобритании'''\n",
        "    load_uk_scrubbed()['Electorate'].hist()\n",
        "    plt.xlabel('Электорат Великобритании')\n",
        "    plt.ylabel('Частота')\n",
        "    plt.show()"
      ],
      "metadata": {
        "id": "qhZ9BRaoGoOT"
      },
      "execution_count": 35,
      "outputs": []
    },
    {
      "cell_type": "markdown",
      "source": [
        "Приведенный выше пример сгенерирует следующий ниже график:"
      ],
      "metadata": {
        "id": "7wtCkPW_GqWi"
      }
    },
    {
      "cell_type": "code",
      "source": [
        "ex_1_12()"
      ],
      "metadata": {
        "colab": {
          "base_uri": "https://localhost:8080/",
          "height": 449
        },
        "id": "xqMXvi8pGs76",
        "outputId": "5fe92908-2923-46c8-9aab-029f41f662fc"
      },
      "execution_count": 36,
      "outputs": [
        {
          "output_type": "display_data",
          "data": {
            "text/plain": [
              "<Figure size 640x480 with 1 Axes>"
            ],
            "image/png": "[encoded data removed]"
          },
          "metadata": {}
        }
      ]
    },
    {
      "cell_type": "markdown",
      "source": [
        "Число корзин, на которые данные разбиваются, можно сконфигурировать, передав в функцию при построении гистограммы именованный аргумент `bins`:"
      ],
      "metadata": {
        "id": "dGWwlY7kGzZ2"
      }
    },
    {
      "cell_type": "code",
      "source": [
        "def ex_1_13():\n",
        "    '''Построить гистограмму частотных корзин\n",
        "       электората Великобритании с 200 корзинами'''\n",
        "    load_uk_scrubbed()['Electorate'].hist(bins=200)\n",
        "    plt.xlabel('Электорат Великобритании')\n",
        "    plt.ylabel('Частота')\n",
        "    plt.show()"
      ],
      "metadata": {
        "id": "BG2JKx7VG1J5"
      },
      "execution_count": 37,
      "outputs": []
    },
    {
      "cell_type": "markdown",
      "source": [
        "Следующий ниже график показывает мелкие детали, но величина столбцов делает неясной форму распределения, в особенности в хвостах:"
      ],
      "metadata": {
        "id": "wTa5By-_G8gv"
      }
    },
    {
      "cell_type": "code",
      "source": [
        "ex_1_13()"
      ],
      "metadata": {
        "colab": {
          "base_uri": "https://localhost:8080/",
          "height": 452
        },
        "id": "RfL76A1hG9Ph",
        "outputId": "02fa1261-ada7-4557-d050-85a2886dce35"
      },
      "execution_count": 38,
      "outputs": [
        {
          "output_type": "display_data",
          "data": {
            "text/plain": [
              "<Figure size 640x480 with 1 Axes>"
            ],
            "image/png": "[encoded data removed]"
          },
          "metadata": {}
        }
      ]
    },
    {
      "cell_type": "markdown",
      "source": [
        "При выборе количества корзин для представления данных следует найти точку равновесия — с малым количеством корзин форма данных будет представлена лишь приблизительно, а слишком большое их число приведет к тому, что шумовые признаки могут заслонить лежащую в основании структуру."
      ],
      "metadata": {
        "id": "T-0_LssLHFDl"
      }
    },
    {
      "cell_type": "code",
      "source": [
        "def ex_1_14():\n",
        "    '''Построить гистограмму частотных корзин\n",
        "       электората Великобритании с 20 корзинами'''\n",
        "    load_uk_scrubbed()['Electorate'].hist(bins=20)\n",
        "    plt.xlabel('Электорат Великобритании')\n",
        "    plt.ylabel('Частота')\n",
        "    plt.show()"
      ],
      "metadata": {
        "id": "4QqB7kzMHGeZ"
      },
      "execution_count": 39,
      "outputs": []
    },
    {
      "cell_type": "markdown",
      "source": [
        "Ниже показана гистограмма теперь уже из 20 корзин:"
      ],
      "metadata": {
        "id": "vacnj5aGHJOv"
      }
    },
    {
      "cell_type": "code",
      "source": [
        "ex_1_14()"
      ],
      "metadata": {
        "colab": {
          "base_uri": "https://localhost:8080/",
          "height": 449
        },
        "id": "l31J9hXeHPzA",
        "outputId": "6073cd79-7ab3-473e-ebab-6b8875c57106"
      },
      "execution_count": 40,
      "outputs": [
        {
          "output_type": "display_data",
          "data": {
            "text/plain": [
              "<Figure size 640x480 with 1 Axes>"
            ],
            "image/png": "[encoded data removed]"
          },
          "metadata": {}
        }
      ]
    },
    {
      "cell_type": "markdown",
      "source": [
        "*Мода* — это значение, встречающееся в последовательности наиболее часто.\n",
        "\n",
        "В анализе данных многие распределения встречаются часто, но ни одно не встречается также часто, как нормальное распределение, именуемое также *гауссовым распределением*.\n",
        "\n",
        "В программировании типичным распределением является *равномерное* распределение. Оно представлено распределением чисел, генерируемых функцией библиотеки scipy `stats.uniform.rvs`: в справедливом генераторе случайных чисел все числа имеют равные шансы быть сгенерированными. Мы можем увидеть это на гистограмме, многократно генерируя серию случайных чисел между 0 и 1 и затем построив график с результатами."
      ],
      "metadata": {
        "id": "cCj67i3tHb1S"
      }
    },
    {
      "cell_type": "code",
      "source": [
        "def ex_1_15():\n",
        "    '''Показать гистограмму равномерного распределения\n",
        "       синтетического набора данных'''\n",
        "    xs = stats.uniform.rvs(0, 1, 10000)\n",
        "    pd.Series(xs).hist(bins=20)\n",
        "    plt.xlabel('Равномерное распределение')\n",
        "    plt.ylabel('Частота')\n",
        "    plt.show()"
      ],
      "metadata": {
        "id": "GmYniirlHbF2"
      },
      "execution_count": 41,
      "outputs": []
    },
    {
      "cell_type": "markdown",
      "source": [
        "Обратите внимание, что в этом примере мы впервые использовали тип `Series` библиотеки pandas для числового ряда данных.\n",
        "\n",
        "Приведенный выше пример создаст следующую гистограмму:"
      ],
      "metadata": {
        "id": "PS-T5UjnIMt3"
      }
    },
    {
      "cell_type": "code",
      "source": [
        "ex_1_15()"
      ],
      "metadata": {
        "colab": {
          "base_uri": "https://localhost:8080/",
          "height": 449
        },
        "id": "vI1e8Qx0IMIC",
        "outputId": "270c18c2-679d-4d67-e76d-33ba3e3595cc"
      },
      "execution_count": 42,
      "outputs": [
        {
          "output_type": "display_data",
          "data": {
            "text/plain": [
              "<Figure size 640x480 with 1 Axes>"
            ],
            "image/png": "[encoded data removed]"
          },
          "metadata": {}
        }
      ]
    },
    {
      "cell_type": "markdown",
      "source": [
        "Если напротив сгенерировать гистограмму средних значений последовательностей чисел, то в результате получится распределение, которое выглядит совсем непохоже."
      ],
      "metadata": {
        "id": "04M020r7Idok"
      }
    },
    {
      "cell_type": "code",
      "source": [
        "def bootstrap(xs, n, replace=True):\n",
        "    '''Вернуть список массивов меньших размеров\n",
        "       по n элементов каждый'''\n",
        "    return np.random.choice(xs, (len(xs), n), replace=replace)\n",
        "\n",
        "def ex_1_16():\n",
        "    '''Построить гистограмму средних значений'''\n",
        "    xs = stats.uniform.rvs(loc=0, scale=1, size=10000)\n",
        "    pd.Series( map(np.mean, bootstrap(xs, 10)) ).hist(bins=20)\n",
        "    plt.xlabel('Распределение средних значений')\n",
        "    plt.ylabel('Частота')\n",
        "    plt.show()"
      ],
      "metadata": {
        "id": "zwyxuAkpIezH"
      },
      "execution_count": 45,
      "outputs": []
    },
    {
      "cell_type": "markdown",
      "source": [
        "Приведенный выше пример сгенерирует результат, аналогичный следующей ниже гистограмме:"
      ],
      "metadata": {
        "id": "JKxZQPDzI04Y"
      }
    },
    {
      "cell_type": "code",
      "source": [
        "ex_1_16()"
      ],
      "metadata": {
        "colab": {
          "base_uri": "https://localhost:8080/",
          "height": 449
        },
        "id": "NtJhBnKwIpsy",
        "outputId": "78063720-d184-4f8b-87c7-096ea872f71f"
      },
      "execution_count": 46,
      "outputs": [
        {
          "output_type": "display_data",
          "data": {
            "text/plain": [
              "<Figure size 640x480 with 1 Axes>"
            ],
            "image/png": "[encoded data removed]"
          },
          "metadata": {}
        }
      ]
    },
    {
      "cell_type": "markdown",
      "source": [
        "Этот результат, когда средний эффект множества мелких случайных колебаний в итоге приводит к нормальному распределению, называется *центральной предельной теоремой*, иногда сокращенно *ЦПТ*, и играет важную роль для объяснения, почему нормальное распределение встречается так часто в природных явлениях.\n",
        "\n",
        "В отличие от центральной предельной теоремы, которая позволяет получать выборки из приближенно нормального распределения, библиотека scipy содержит функции для эффективного генерирования выборок из самых разнообразных статистических распределений, включая нормальное:"
      ],
      "metadata": {
        "id": "MqmWFpBJJNCX"
      }
    },
    {
      "cell_type": "code",
      "source": [
        "def ex_1_17():\n",
        "    '''Показать гистограмму нормального распределения\n",
        "       синтетического набора данных'''\n",
        "    xs = stats.norm.rvs(loc=0, scale=1, size=10000)\n",
        "    pd.Series(xs).hist(bins=20)\n",
        "    plt.xlabel('Нормальное распределение')\n",
        "    plt.ylabel('Частота')\n",
        "    plt.show()"
      ],
      "metadata": {
        "id": "zpKVGdWJJcGy"
      },
      "execution_count": 47,
      "outputs": []
    },
    {
      "cell_type": "markdown",
      "source": [
        "Отметим, что в функции `sp.random.normal` параметр `loc` – это среднее значение, `scale` – дисперсия и `size` – размер выборки. Приведенный выше пример сгенерирует следующую гистограмму нормального распределения:"
      ],
      "metadata": {
        "id": "G3cEAvJeJfZq"
      }
    },
    {
      "cell_type": "code",
      "source": [
        "ex_1_17()"
      ],
      "metadata": {
        "colab": {
          "base_uri": "https://localhost:8080/",
          "height": 449
        },
        "id": "du_reBepJp8O",
        "outputId": "54a1bea3-315c-40ba-ca84-a86e62b4a355"
      },
      "execution_count": 48,
      "outputs": [
        {
          "output_type": "display_data",
          "data": {
            "text/plain": [
              "<Figure size 640x480 with 1 Axes>"
            ],
            "image/png": "[encoded data removed]"
          },
          "metadata": {}
        }
      ]
    }
  ]
}